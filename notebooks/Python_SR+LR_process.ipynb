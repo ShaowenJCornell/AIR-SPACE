{
 "cells": [
  {
   "cell_type": "code",
   "execution_count": 1,
   "metadata": {},
   "outputs": [
    {
     "name": "stderr",
     "output_type": "stream",
     "text": [
      "/tmp/ipykernel_2393272/2461235975.py:1: DeprecationWarning: \n",
      "Pyarrow will become a required dependency of pandas in the next major release of pandas (pandas 3.0),\n",
      "(to allow more performant data types, such as the Arrow string type, and better interoperability with other libraries)\n",
      "but was not found to be installed on your system.\n",
      "If this would cause problems for you,\n",
      "please provide us feedback at https://github.com/pandas-dev/pandas/issues/54466\n",
      "        \n",
      "  import pandas as pd\n"
     ]
    }
   ],
   "source": [
    "import pandas as pd\n",
    "import matplotlib.pyplot as plt\n",
    "import seaborn as sns\n",
    "import scanpy as sc\n",
    "import numpy as np\n",
    "import gzip\n",
    "import os\n",
    "import anndata as ad\n",
    "import scipy.spatial as scisp\n",
    "import seaborn as sns\n",
    "import matplotlib.pyplot as plt\n",
    "from matplotlib.backends.backend_pdf import PdfPages"
   ]
  },
  {
   "cell_type": "code",
   "execution_count": 2,
   "metadata": {},
   "outputs": [],
   "source": [
    "pd.set_option('display.max_columns', 500)\n",
    "#pd.set_option('display.max_rows', 500)\n",
    "pd.set_option('display.width', 1000)\n",
    "sc.settings.n_jobs=20"
   ]
  },
  {
   "cell_type": "markdown",
   "metadata": {},
   "source": [
    "# 1. Combine SR and LR data"
   ]
  },
  {
   "cell_type": "code",
   "execution_count": 3,
   "metadata": {},
   "outputs": [
    {
     "data": {
      "text/plain": [
       "{'Mock': AnnData object with n_obs × n_vars = 10256 × 31053\n",
       "     obs: 'barcode', 'x', 'y', 'n_genes_by_counts', 'total_counts', 'total_counts_mt', 'pct_counts_mt', 'n_counts', 'spatial_neighbors_100_true'\n",
       "     var: 'gene_ids', 'feature_types', 'mt', 'n_cells_by_counts', 'mean_counts', 'pct_dropout_by_counts', 'total_counts'\n",
       "     obsm: 'spatial', 'spatial_distances',\n",
       " 'D3PI': AnnData object with n_obs × n_vars = 18661 × 31053\n",
       "     obs: 'barcode', 'x', 'y', 'n_genes_by_counts', 'total_counts', 'total_counts_mt', 'pct_counts_mt'\n",
       "     var: 'gene_ids', 'feature_types', 'mt', 'n_cells_by_counts', 'mean_counts', 'pct_dropout_by_counts', 'total_counts'\n",
       "     obsm: 'spatial',\n",
       " 'D7PI': AnnData object with n_obs × n_vars = 26692 × 31053\n",
       "     obs: 'barcode', 'x', 'y', 'n_genes_by_counts', 'total_counts', 'total_counts_mt', 'pct_counts_mt', 'n_counts', 'spatial_neighbors_100_true'\n",
       "     var: 'gene_ids', 'feature_types', 'mt', 'n_cells_by_counts', 'mean_counts', 'pct_dropout_by_counts', 'total_counts'\n",
       "     obsm: 'spatial', 'spatial_distances',\n",
       " 'D10PI': AnnData object with n_obs × n_vars = 34013 × 31053\n",
       "     obs: 'barcode', 'x', 'y', 'n_genes_by_counts', 'total_counts', 'total_counts_mt', 'pct_counts_mt', 'n_counts', 'spatial_neighbors_100_true'\n",
       "     var: 'gene_ids', 'feature_types', 'mt', 'n_cells_by_counts', 'mean_counts', 'pct_dropout_by_counts', 'total_counts'\n",
       "     obsm: 'spatial', 'spatial_distances',\n",
       " 'D14PI': AnnData object with n_obs × n_vars = 21314 × 31053\n",
       "     obs: 'barcode', 'x', 'y', 'n_genes_by_counts', 'total_counts', 'total_counts_mt', 'pct_counts_mt', 'n_counts', 'spatial_neighbors_100_true'\n",
       "     var: 'gene_ids', 'feature_types', 'mt', 'n_cells_by_counts', 'mean_counts', 'pct_dropout_by_counts', 'total_counts'\n",
       "     obsm: 'spatial', 'spatial_distances',\n",
       " 'D21PI': AnnData object with n_obs × n_vars = 22890 × 31053\n",
       "     obs: 'barcode', 'x', 'y', 'n_genes_by_counts', 'total_counts', 'total_counts_mt', 'pct_counts_mt', 'n_counts', 'spatial_neighbors_100_true'\n",
       "     var: 'gene_ids', 'feature_types', 'mt', 'n_cells_by_counts', 'mean_counts', 'pct_dropout_by_counts', 'total_counts'\n",
       "     obsm: 'spatial', 'spatial_distances'}"
      ]
     },
     "execution_count": 3,
     "metadata": {},
     "output_type": "execute_result"
    }
   ],
   "source": [
    "# read the filtered ones\n",
    "samples_dict = {\"Mock\":\"Mock\", \"D3\":\"D3PI\",\"D7\":\"D7PI\", \"D10\":\"D10PI\",\n",
    "                \"D14\":\"D14PI\",\"D21\":\"D21PI\"}\n",
    "adata_dict = dict()\n",
    "for sample in samples_dict.keys():\n",
    "        adata_dict[samples_dict[sample]] = sc.read_h5ad(\"../output_files/objects/adata_\"+ sample+ \"_with_image_raw_counts_filtered_smear_removed.h5ad\")\n",
    "adata_dict"
   ]
  },
  {
   "cell_type": "code",
   "execution_count": 1,
   "metadata": {},
   "outputs": [
    {
     "data": {
      "text/plain": [
       "2"
      ]
     },
     "execution_count": 1,
     "metadata": {},
     "output_type": "execute_result"
    }
   ],
   "source": [
    "1+1"
   ]
  },
  {
   "cell_type": "code",
   "execution_count": null,
   "metadata": {},
   "outputs": [],
   "source": [
    "adata_comb = ad.concat(adata_dict, axis=0, label='Sample')\n",
    "adata_comb.obs['Index'] = adata_comb.obs['barcode'] + '_' + adata_comb.obs['Sample'].astype(str)\n",
    "adata_comb.obs.index = adata_comb.obs['Index']\n",
    "# add the previous label\n",
    "adata_prev = sc.read_h5ad(\"../../../output_files/objects/adata_allTP_demul_1lev_meta_c2lTB_memsec_ovpCS_wRegion_raw.h5ad\")\n",
    "col_int = ['S_score','G2M_score','phase','Celltypes','Broad_celltypes','Refine_celltypes','CD4_CD8_type','Bcell_subtype_abun','Region_Leiden_0.7']\n",
    "for col in col_int:\n",
    "    if col == \"Celltypes\":\n",
    "        new_col = \"Celltypes_c2lLN\"\n",
    "    elif col == \"Region_Leiden_0.7\":\n",
    "        new_col = \"Region\"\n",
    "    elif col == \"Bcell_subtype_abun\":\n",
    "        new_col = \"Bcell_subtype_c2lHTA\"\n",
    "    else:\n",
    "        new_col = col\n",
    "    adata_comb.obs[new_col] = adata_prev.obs[col]\n",
    "# add the csv\n",
    "lr_meta = pd.read_csv(\"/fs/cbsuvlaminck5/workdir/sj657/lymph_node/for_public/output_files/AllTP_meta_ovp.tsv\")\n",
    "# merge together\n",
    "adata_comb.obs.index = adata_comb.obs['Index']\n",
    "lr_meta.index = lr_meta['Index']\n",
    "lr_col = lr_meta.columns.tolist()\n",
    "lr_col = [col for col in lr_col if col not in [\"barcode\",\"Sample\",\"Index\"]]\n",
    "lr_meta = lr_meta[lr_col]\n",
    "# left_join\n",
    "adata_comb.obs = pd.merge(adata_comb.obs, lr_meta, left_index=True, right_index = True, how = \"left\")"
   ]
  },
  {
   "cell_type": "code",
   "execution_count": null,
   "metadata": {},
   "outputs": [],
   "source": [
    "# add membrane-secreted information for all CS\n",
    "# read the ovp CS df\n",
    "meta_mem_sec = pd.read_csv(\"/fs/cbsuvlaminck5/workdir/sj657/lymph_node/for_public/output_files/membrane_secreted_check/AllTP_membrane_secreted_ovp_Concensus_reads.txt\",\n",
    "                        sep = \"\\t\",index_col=\"Index\")\n",
    "meta_mem_sec.columns = [f\"{col}_CS\" for col in meta_mem_sec.columns]\n",
    "meta_mem_sec.columns\n",
    "# meta_mem_sec.head()\n",
    "# merge\n",
    "adata_comb.obs = pd.merge(adata_comb.obs, meta_mem_sec, left_index=True, right_index = True, how = \"left\")\n",
    "adata_comb.obs"
   ]
  },
  {
   "cell_type": "code",
   "execution_count": null,
   "metadata": {},
   "outputs": [],
   "source": [
    "# add membrane-secreted information for all CDR3\n",
    "# read the ovp CDR3 df\n",
    "meta_mem_sec = pd.read_csv(\"/fs/cbsuvlaminck5/workdir/sj657/lymph_node/for_public/output_files/membrane_secreted_check/AllTP_membrane_secreted_ovp_Mixcr.txt\",\n",
    "                        sep = \"\\t\",index_col=\"Index\")\n",
    "meta_mem_sec.columns = [f\"{col}_CDR3\" for col in meta_mem_sec.columns]\n",
    "meta_mem_sec.columns\n",
    "# meta_mem_sec.head()\n",
    "# merge\n",
    "adata_comb.obs = pd.merge(adata_comb.obs, meta_mem_sec, left_index=True, right_index = True, how = \"left\")\n",
    "adata_comb.obs.columns"
   ]
  },
  {
   "cell_type": "code",
   "execution_count": null,
   "metadata": {},
   "outputs": [],
   "source": [
    "umi_columns = [col for col in adata_comb.obs.columns if col.endswith('_umi')]\n",
    "print(umi_columns)\n",
    "# add a num_IGHG_umi\n",
    "adata_comb.obs['num_IGHG_umi'] = (\n",
    "    adata_comb.obs['num_IGHG1_umi'] + \n",
    "    adata_comb.obs['num_IGHG2B_umi'] + \n",
    "    adata_comb.obs['num_IGHG2C_umi'] + \n",
    "    adata_comb.obs['num_IGHG3_umi']\n",
    ")"
   ]
  },
  {
   "cell_type": "code",
   "execution_count": null,
   "metadata": {},
   "outputs": [],
   "source": [
    "# replace 0.0 to na\n",
    "ct_list = ['num_clones_IGH','num_clones_IGK','num_clones_IGL']\n",
    "for i in ct_list:\n",
    "    adata_comb.obs[i].replace(0.0,np.nan,inplace=True)\n",
    "adata_comb.obs['num_clones_IGpair_HK'] = (adata_comb.obs['num_clones_IGH'] * adata_comb.obs['num_clones_IGK'])\n",
    "adata_comb.obs['num_clones_IGpair_HL'] = (adata_comb.obs['num_clones_IGH'] * adata_comb.obs['num_clones_IGL'])\n",
    "adata_comb.obs[\"num_clones_IGpair\"] = adata_comb.obs['num_clones_IGpair_HK'] + adata_comb.obs['num_clones_IGpair_HL']"
   ]
  },
  {
   "cell_type": "code",
   "execution_count": null,
   "metadata": {},
   "outputs": [],
   "source": [
    "# BT pair\n",
    "ct_list = ['num_clones_TRB','num_clones_TRA']\n",
    "for i in ct_list:\n",
    "    adata_comb.obs[i].replace(0.0,np.nan,inplace=True)\n",
    "adata_comb.obs['num_clones_BTpair_HB'] = (adata_comb.obs['num_clones_IGH'] * adata_comb.obs['num_clones_TRB'])"
   ]
  },
  {
   "cell_type": "code",
   "execution_count": null,
   "metadata": {},
   "outputs": [],
   "source": [
    "# pairs for TR\n",
    "adata_comb.obs['num_clones_TRpair'] = (adata_comb.obs['num_clones_TRB'] * adata_comb.obs['num_clones_TRA'])\n",
    "adata_comb.obs[['num_clones_IGpair_HK','num_clones_IGpair_HL','num_clones_IGpair','num_clones_TRpair','num_clones_BTpair_HB']]"
   ]
  },
  {
   "cell_type": "code",
   "execution_count": null,
   "metadata": {},
   "outputs": [],
   "source": [
    "adata_comb.obs['num_clones_TRpair'].sum(0,skipna=True)\n",
    "# Change specific nam\n",
    "adata_comb.obs['Region'] = adata_comb.obs['Region'].astype(str)\n",
    "adata_comb.obs.loc[adata_comb.obs['Region'] == \"Trabeculae\", 'Region'] = \"Conduit\""
   ]
  },
  {
   "cell_type": "code",
   "execution_count": null,
   "metadata": {},
   "outputs": [],
   "source": [
    "# save\n",
    "adata_comb.write_h5ad(\"/fs/cbsuvlaminck5/workdir/sj657/lymph_node/for_public/output_files/objects/adata_comb_allTP_whole_meta_raw.h5ad\")\n",
    "# to csv\n",
    "adata_comb.obs.to_csv(\"/fs/cbsuvlaminck5/workdir/sj657/lymph_node/for_public/output_files/adata_comb_allTP_whole_meta.csv\")"
   ]
  },
  {
   "cell_type": "code",
   "execution_count": null,
   "metadata": {},
   "outputs": [],
   "source": [
    "adata_comb"
   ]
  },
  {
   "cell_type": "code",
   "execution_count": null,
   "metadata": {},
   "outputs": [],
   "source": []
  },
  {
   "cell_type": "code",
   "execution_count": null,
   "metadata": {},
   "outputs": [],
   "source": []
  }
 ],
 "metadata": {
  "kernelspec": {
   "display_name": "c2l_env",
   "language": "python",
   "name": "python3"
  },
  "language_info": {
   "codemirror_mode": {
    "name": "ipython",
    "version": 3
   },
   "file_extension": ".py",
   "mimetype": "text/x-python",
   "name": "python",
   "nbconvert_exporter": "python",
   "pygments_lexer": "ipython3",
   "version": "3.9.0"
  },
  "orig_nbformat": 4
 },
 "nbformat": 4,
 "nbformat_minor": 2
}
