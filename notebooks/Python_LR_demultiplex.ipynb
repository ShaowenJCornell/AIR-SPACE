{
 "cells": [
  {
   "cell_type": "code",
   "execution_count": 1,
   "metadata": {},
   "outputs": [],
   "source": [
    "import sys\n",
    "sys.path.append('/workdir/sj657/lymph_node/for_public/software/BLAZE')\n",
    "import blaze.polyT_adaptor_finder as polyT_adaptor_finder\n",
    "#from blaze.polyT_adaptor_finder import find_poly_T\n",
    "from blaze.main import get_raw_bc_from_reads\n",
    "from blaze.main import read_batch_generator\n",
    "import shlex\n",
    "import os\n",
    "import getopt\n",
    "from collections import defaultdict, Counter\n",
    "from tqdm import tqdm\n",
    "import multiprocessing as mp\n",
    "import textwrap\n",
    "from pathlib import Path\n",
    "import pandas as pd\n",
    "import numpy as np\n",
    "from matplotlib import pyplot as plt\n",
    "import zipfile\n",
    "import io\n",
    "import logging\n",
    "import gzip\n",
    "import blaze.helper as helper\n",
    "# from blaze.config import *\n",
    "import blaze.config as config\n",
    "from collections import namedtuple\n",
    "from fast_edit_distance import sub_edit_distance # significantly improved running time compared with Lev distance"
   ]
  },
  {
   "cell_type": "code",
   "execution_count": 1,
   "metadata": {},
   "outputs": [
    {
     "ename": "NameError",
     "evalue": "name 'pd' is not defined",
     "output_type": "error",
     "traceback": [
      "\u001b[0;31m---------------------------------------------------------------------------\u001b[0m",
      "\u001b[0;31mNameError\u001b[0m                                 Traceback (most recent call last)",
      "Cell \u001b[0;32mIn[1], line 2\u001b[0m\n\u001b[1;32m      1\u001b[0m \u001b[38;5;66;03m# sc.settings.verbosity = 0\u001b[39;00m\n\u001b[0;32m----> 2\u001b[0m \u001b[43mpd\u001b[49m\u001b[38;5;241m.\u001b[39mset_option(\u001b[38;5;124m'\u001b[39m\u001b[38;5;124mdisplay.max_columns\u001b[39m\u001b[38;5;124m'\u001b[39m, \u001b[38;5;241m50\u001b[39m)\n\u001b[1;32m      3\u001b[0m \u001b[38;5;66;03m#pd.set_option('display.max_rows', 500)\u001b[39;00m\n\u001b[1;32m      4\u001b[0m pd\u001b[38;5;241m.\u001b[39mset_option(\u001b[38;5;124m'\u001b[39m\u001b[38;5;124mdisplay.width\u001b[39m\u001b[38;5;124m'\u001b[39m, \u001b[38;5;241m100\u001b[39m)\n",
      "\u001b[0;31mNameError\u001b[0m: name 'pd' is not defined"
     ]
    }
   ],
   "source": [
    "# sc.settings.verbosity = 0\n",
    "pd.set_option('display.max_columns', 50)\n",
    "#pd.set_option('display.max_rows', 500)\n",
    "pd.set_option('display.width', 100)\n",
    "# sc.settings.n_jobs=10"
   ]
  },
  {
   "cell_type": "markdown",
   "metadata": {},
   "source": [
    "# Step 1"
   ]
  },
  {
   "cell_type": "code",
   "execution_count": 4,
   "metadata": {},
   "outputs": [],
   "source": [
    "fn = \"/workdir/sj657/lymph_node/for_public/codes/github_pub/output_files/R2C2_output/allTP_ONT_concensus.fastq\"\n",
    "# load the reads; read the whold fastq files\n",
    "# read_tuple = namedtuple('read_tuple', ['id', 'seq', 'q_letter'])\n",
    "read_dict = {}\n",
    "with open(fn, \"r\") as handle:\n",
    "    while True:\n",
    "        id = next(handle, None)\n",
    "        if id is None:\n",
    "            break\n",
    "        seq = next(handle)\n",
    "        next(handle) # skip  '+'\n",
    "        q_letter = next(handle)\n",
    "        id = id[1:].split()[0]\n",
    "        seq = seq.strip()\n",
    "        q_letter = q_letter.strip()\n",
    "        read_dict[id] = [seq, q_letter]\n",
    "process_read_list = []\n",
    "for id,value in read_dict.items():\n",
    "    try:\n",
    "        # print(id)\n",
    "        read = polyT_adaptor_finder.Read(read_id = id, sequence=str(value[0]), \n",
    "                        phred_score=value[1]) # the method allow\n",
    "        read.get_strand_and_raw_bc()\n",
    "        read.putative_UMI\n",
    "        process_read_list.append(read.__dict__)\n",
    "    except Exception as e:\n",
    "        print(f\"Error processing id {id}: {e}\")\n",
    "    # break\n",
    "process_read_df = pd.DataFrame(process_read_list)"
   ]
  },
  {
   "cell_type": "code",
   "execution_count": 7,
   "metadata": {},
   "outputs": [],
   "source": [
    "# filter\n",
    "process_read_df = process_read_df[process_read_df['adaptor_polyT_pass']==0]\n",
    "process_read_df = process_read_df[process_read_df['_strand']==\"+\"]\n",
    "# filter the ones without BC1 or BC2\n",
    "process_read_df = process_read_df[process_read_df['raw_bc2']!='']\n",
    "process_read_df.shape\n",
    "process_read_df = process_read_df[process_read_df['raw_bc1']!='']\n",
    "process_read_df.shape"
   ]
  },
  {
   "cell_type": "code",
   "execution_count": 12,
   "metadata": {},
   "outputs": [],
   "source": [
    "process_read_df['Barcode'] = process_read_df['raw_bc1'] + process_read_df['raw_bc2']\n",
    "# save\n",
    "process_read_df.to_pickle(\"../output_files/objects/AllTP_ONT_filtered_reads_process.pkl\")"
   ]
  },
  {
   "cell_type": "code",
   "execution_count": null,
   "metadata": {},
   "outputs": [],
   "source": []
  },
  {
   "cell_type": "markdown",
   "metadata": {},
   "source": [
    "# Step 2"
   ]
  },
  {
   "cell_type": "code",
   "execution_count": 20,
   "metadata": {},
   "outputs": [],
   "source": [
    "from fast_edit_distance import edit_distance, sub_edit_distance\n",
    "import blaze.polyT_adaptor_finder as polyT_adaptor_finder\n",
    "#from blaze.polyT_adaptor_finder import find_poly_T\n",
    "from blaze.main import get_raw_bc_from_reads\n",
    "from blaze.main import read_batch_generator\n",
    "import multiprocessing as mp\n",
    "import tempfile\n",
    "import pandas as pd\n",
    "import numpy as np\n",
    "import gzip\n",
    "import os\n",
    "# from tqdm import tqdm\n",
    "import logging\n",
    "import sys\n",
    "from io import StringIO\n",
    "import io\n",
    "import gzip\n",
    "import glob\n",
    "\n",
    "import blaze.helper as helper\n",
    "from blaze.config import *\n",
    "from multiprocessing import Pool, cpu_count\n",
    "import time"
   ]
  },
  {
   "cell_type": "code",
   "execution_count": 14,
   "metadata": {},
   "outputs": [],
   "source": [
    "pd.set_option('display.max_rows', 500)\n",
    "pd.set_option('display.max_columns', 500)\n",
    "pd.set_option('display.width', 1000)"
   ]
  },
  {
   "cell_type": "code",
   "execution_count": 15,
   "metadata": {},
   "outputs": [
    {
     "name": "stdout",
     "output_type": "stream",
     "text": [
      "Mock\n",
      "D3\n",
      "D7\n",
      "D10\n",
      "D14\n",
      "D21\n"
     ]
    }
   ],
   "source": [
    "# read all fasta file\n",
    "def fasta_todf(input_file,tp):\n",
    "    full_dict = {}\n",
    "    names = []\n",
    "    seqlr = []\n",
    "    with open(input_file, \"r\") as infile:\n",
    "        seq = \"\"\n",
    "        header = \"\"\n",
    "        for line in infile:\n",
    "            if line.startswith(\">\"):\n",
    "                header = line.strip()\n",
    "                names.append(header)\n",
    "            else:\n",
    "                seq = line.strip()\n",
    "    full_dict['read_name'] = names\n",
    "    full_dict['Sample'] = tp\n",
    "    return pd.DataFrame.from_dict(full_dict)\n",
    "\n",
    "\n",
    "dfs = []\n",
    "for i in ['Mock','D3','D7','D10','D14','D21']:\n",
    "    print(i)\n",
    "    tmp_read_df = fasta_todf(\"/workdir/sj657/lymph_node/for_public/codes/github_pub/output_files/R2C2_output/\"+i+\"_ONT_concensus.fasta\",tp = i)\n",
    "    dfs.append(tmp_read_df)\n",
    "all_read_df = pd.concat(dfs)"
   ]
  },
  {
   "cell_type": "code",
   "execution_count": 17,
   "metadata": {},
   "outputs": [
    {
     "data": {
      "text/plain": [
       "(1595948, 18)"
      ]
     },
     "execution_count": 17,
     "metadata": {},
     "output_type": "execute_result"
    }
   ],
   "source": [
    "# merge\n",
    "process_read_df = process_read_df.merge(all_read_df, how = \"left\", left_on=\"id\",right_on = \"read_name\")\n",
    "process_read_df.shape"
   ]
  },
  {
   "cell_type": "code",
   "execution_count": 18,
   "metadata": {},
   "outputs": [
    {
     "data": {
      "text/plain": [
       "Sample\n",
       "D10     494853\n",
       "D14     262143\n",
       "D3      241149\n",
       "D7      221445\n",
       "D21     219255\n",
       "Mock    157103\n",
       "Name: count, dtype: int64"
      ]
     },
     "execution_count": 18,
     "metadata": {},
     "output_type": "execute_result"
    }
   ],
   "source": [
    "process_read_df.Sample.value_counts()"
   ]
  },
  {
   "cell_type": "code",
   "execution_count": null,
   "metadata": {},
   "outputs": [],
   "source": [
    "for tp in [\"Mock\",\"D3\",\"D7\",\"D10\",\"D14\",\"D21\"]:\n",
    "    path = \"../slideseq_beadbarcodes/\"+tp+\"_BeadBarcodes.txt\"\n",
    "    inf_barcode = pd.read_csv(glob.glob(path)[0], delimiter=\"\\t\", names= [\"barcode\", \"x\", \"y\"])\n",
    "    white_bb = set(inf_barcode['barcode'])\n",
    "    print(len(white_bb))\n",
    "    from multiprocessing import Pool, cpu_count\n",
    "    def match_bc_row(bc,whitelist=white_bb, max_ed = 2):\n",
    "        best_ed = []\n",
    "        bc_hit = []\n",
    "        bc_hit_end_idx = -1\n",
    "        ambiguous_or_not = 'not'\n",
    "        # extending the putative barcode from both sides for potential indels\n",
    "        # bc = row.pre_bc_flanking[-DEFAULT_ED_FLANKING:] + bc + row.putative_umi[:DEFAULT_ED_FLANKING]\n",
    "        for i in whitelist:\n",
    "            #print(i)\n",
    "            ed, end_idx = sub_edit_distance(i, bc, max_ed) \n",
    "            #print(ed,end_idx)\n",
    "            if ed == 0:\n",
    "                #print(\"Found exact match\")\n",
    "                best_ed = [ed]\n",
    "                bc_hit = [i]\n",
    "                break\n",
    "            elif ed <= 2:\n",
    "                bc_hit.append(i)\n",
    "                best_ed.append(ed)\n",
    "    \n",
    "        # check the list and only keep the one if it contains 1\n",
    "        if 1 in best_ed:\n",
    "            # keep the ones with 1\n",
    "            kp_idx = [index for index, value in enumerate(best_ed) if value == 1]\n",
    "            # print(kp_idx)\n",
    "            bc_hit = list(map(lambda i: bc_hit[i], kp_idx))\n",
    "            best_ed = list(map(lambda i: best_ed[i], kp_idx))\n",
    "        if len(bc_hit) > 1:\n",
    "            ambiguous_or_not = \"ambiguous\"\n",
    "        return pd.Series([bc_hit, best_ed,ambiguous_or_not])\n",
    "    def parallel_match_bc_row(row):\n",
    "        return match_bc_row(row['Barcode'])\n",
    "    # Function to apply match_bc_row to each chunk in parallel\n",
    "    def parallel_process(chunk):\n",
    "        return chunk.apply(parallel_match_bc_row, axis=1)\n",
    "    \n",
    "    tmp_process_read_df = process_read_df[process_read_df['Sample']==tp]\n",
    "    # Let's try with the whole df\n",
    "    start_time = time.process_time()\n",
    "    # trial_read_df = process_read_df.iloc[:1000,:]\n",
    "    num_processes = 25\n",
    "    chunk_size = len(tmp_process_read_df) // num_processes\n",
    "    chunks = [tmp_process_read_df.iloc[i:i+chunk_size] for i in range(0, len(tmp_process_read_df), chunk_size)]\n",
    "    # Create a Pool of processes\n",
    "    with Pool(num_processes) as pool:\n",
    "        # Apply the function to each chunk in parallel\n",
    "        results = pool.map(parallel_process, chunks)\n",
    "    result_df = pd.concat(results)\n",
    "    # Mark the end time\n",
    "    end_time = time.process_time()\n",
    "    # Calculate the elapsed time\n",
    "    elapsed_time = end_time - start_time\n",
    "    print(f\"Elapsed time: {elapsed_time} seconds\")\n",
    "    tmp_process_read_df[[\"bc_hit\",\"best_edit_distance\",\"Ambiguity\"]] = result_df\n",
    "    # save in pickle\n",
    "    tmp_process_read_df.to_pickle(\"../output_files/objects/\"+tp+\"_match_Barcode_process.pkl\")"
   ]
  },
  {
   "cell_type": "code",
   "execution_count": null,
   "metadata": {},
   "outputs": [],
   "source": []
  },
  {
   "cell_type": "markdown",
   "metadata": {},
   "source": [
    "# Step 3\n",
    "### Allow 1 dis in adaptor and 1 dis in barcode"
   ]
  },
  {
   "cell_type": "code",
   "execution_count": 23,
   "metadata": {},
   "outputs": [],
   "source": [
    "def get_adaptor(seq, bc2_start, len_adap):\n",
    "    try:\n",
    "        seq = seq[::-1]\n",
    "        adap_start = int(bc2_start-len_adap)\n",
    "        adaptor = seq[adap_start:int(bc2_start)]\n",
    "        return adaptor[::-1]\n",
    "    except TypeError:\n",
    "        return 'nan'\n",
    "\n",
    "def get_cDNA(seq, bc2_start, bc2, umi):\n",
    "    try:\n",
    "        seq = seq[::-1]\n",
    "        bc2_start = int(bc2_start)\n",
    "        len_bc2=len(bc2);len_umi=len(umi)\n",
    "        bb2umivv = seq[bc2_start:(bc2_start+len_bc2+len_umi+2)]\n",
    "        cdna_polya = seq[(bc2_start+len_bc2+len_umi+2):]\n",
    "        return pd.Series([bb2umivv, cdna_polya[::-1]])\n",
    "    except TypeError:\n",
    "        return 'nan'\n",
    "# can it identify polyA?\n",
    "def extractPolyA(seq):\n",
    "    \"\"\"\n",
    "    Extract polyA from the left_linker sequence\n",
    "    output cDNA (reverse Trim), polyA, BB2UMIVV\n",
    "    \"\"\"\n",
    "    reverse = seq[::-1]\n",
    "    Astate, Astretch, Vstretch, trimPos, Astart_pos = False, 0, 0, 0, 0\n",
    "    for pos in range(0, len(reverse), 1):\n",
    "        base = reverse[pos]\n",
    "        if not Astate:\n",
    "            if base == 'A':\n",
    "                #firstA = pos\n",
    "                Astretch += 1\n",
    "                if Astretch == 6:\n",
    "                    Astate = True\n",
    "                    lastA = pos\n",
    "                    firstA = pos-5\n",
    "            else:\n",
    "                Astretch = 0\n",
    "        if Astate:\n",
    "            if base == 'A':\n",
    "                Astretch += 1\n",
    "                if Astretch >= 3: # ? wouldn't all Astretch in here is > 6\n",
    "                    Vstretch = 0\n",
    "                    lastA = pos\n",
    "            else:\n",
    "                Vstretch += 1\n",
    "                Astretch = 0\n",
    "            if Vstretch >= 3:\n",
    "                trimPos = lastA\n",
    "                Astart_pos = firstA\n",
    "                break\n",
    "    reverseTrim = reverse[trimPos:] # cDNA\n",
    "    Trimleft = reverse[:trimPos+1]\n",
    "    polyA = reverse[Astart_pos:trimPos+1]\n",
    "    # BBUMI = reverse[:Astart_pos]\n",
    "    return pd.Series([reverseTrim[::-1], polyA])"
   ]
  },
  {
   "cell_type": "code",
   "execution_count": 24,
   "metadata": {},
   "outputs": [
    {
     "name": "stdout",
     "output_type": "stream",
     "text": [
      "Mock\n",
      "best_edit_distance\n",
      "[0]    67208\n",
      "[1]    40931\n",
      "Name: count, dtype: int64\n"
     ]
    },
    {
     "data": {
      "image/png": "[encoded data removed]",
      "text/plain": [
       "<Figure size 1000x600 with 1 Axes>"
      ]
     },
     "metadata": {},
     "output_type": "display_data"
    },
    {
     "name": "stdout",
     "output_type": "stream",
     "text": [
      "108139\n",
      "108139\n",
      "D3\n",
      "best_edit_distance\n",
      "[0]    112317\n",
      "[1]     55351\n",
      "Name: count, dtype: int64\n"
     ]
    },
    {
     "data": {
      "image/png": "[encoded data removed]",
      "text/plain": [
       "<Figure size 1000x600 with 1 Axes>"
      ]
     },
     "metadata": {},
     "output_type": "display_data"
    },
    {
     "name": "stdout",
     "output_type": "stream",
     "text": [
      "167668\n",
      "167668\n",
      "D7\n",
      "best_edit_distance\n",
      "[0]    91435\n",
      "[1]    38092\n",
      "Name: count, dtype: int64\n"
     ]
    },
    {
     "data": {
      "image/png": "[encoded data removed]",
      "text/plain": [
       "<Figure size 1000x600 with 1 Axes>"
      ]
     },
     "metadata": {},
     "output_type": "display_data"
    },
    {
     "name": "stdout",
     "output_type": "stream",
     "text": [
      "129527\n",
      "129527\n",
      "D10\n",
      "best_edit_distance\n",
      "[0]    209239\n",
      "[1]     86262\n",
      "Name: count, dtype: int64\n"
     ]
    },
    {
     "data": {
      "image/png": "[encoded data removed]",
      "text/plain": [
       "<Figure size 1000x600 with 1 Axes>"
      ]
     },
     "metadata": {},
     "output_type": "display_data"
    },
    {
     "name": "stdout",
     "output_type": "stream",
     "text": [
      "295501\n",
      "295501\n",
      "D14\n",
      "best_edit_distance\n",
      "[0]    115523\n",
      "[1]     52940\n",
      "Name: count, dtype: int64\n"
     ]
    },
    {
     "data": {
      "image/png": "[encoded data removed]",
      "text/plain": [
       "<Figure size 1000x600 with 1 Axes>"
      ]
     },
     "metadata": {},
     "output_type": "display_data"
    },
    {
     "name": "stdout",
     "output_type": "stream",
     "text": [
      "168463\n",
      "168463\n",
      "D21\n",
      "best_edit_distance\n",
      "[0]    82620\n",
      "[1]    38849\n",
      "Name: count, dtype: int64\n"
     ]
    },
    {
     "data": {
      "image/png": "[encoded data removed]",
      "text/plain": [
       "<Figure size 1000x600 with 1 Axes>"
      ]
     },
     "metadata": {},
     "output_type": "display_data"
    },
    {
     "name": "stdout",
     "output_type": "stream",
     "text": [
      "121469\n",
      "121469\n"
     ]
    }
   ],
   "source": [
    "for tp in ['Mock','D3','D7','D10','D14','D21']:\n",
    "# for tp in ['D7','D10','D14','D21']:\n",
    "\n",
    "    print(tp)\n",
    "    tmp_process_read_df = pd.read_pickle(\"../output_files/objects/\"+tp+\"_match_Barcode_process.pkl\")\n",
    "    # tmp_process_read_df = tmp_process_read_df[tmp_process_read_df['Ambiguity'] == \"not\"]\n",
    "    tmp_process_read_df = tmp_process_read_df[tmp_process_read_df['adaptor_len'].isin([17,18,19])]\n",
    "    tmp_process_read_df = tmp_process_read_df[tmp_process_read_df['best_edit_distance'].map(lambda d: len(d)==1)]\n",
    "    tmp_process_read_df = tmp_process_read_df[tmp_process_read_df['best_edit_distance'].map(lambda d: d[0]<2)]    # allowing only 1 dist from the barcod\n",
    "    print(tmp_process_read_df.best_edit_distance.value_counts(dropna=False))\n",
    "    tmp_read_df = tmp_process_read_df.copy()\n",
    "    tmp_read_df['linker'] = tmp_read_df.apply(lambda row: get_adaptor(row['seq'], row['raw_bc2_start'], row['adaptor_len']), axis=1)\n",
    "    tmp_read_df[['BB2UMIVV','cDNA_polyA']] = tmp_read_df.apply(lambda row: get_cDNA(row['seq'], row['raw_bc2_start'], row['raw_bc2'], row['umi']), axis=1)\n",
    "    tmp_read_df[['cDNA','polyA']] = tmp_read_df.apply(lambda row: extractPolyA(row['cDNA_polyA']), axis = 1)\n",
    "    tmp_read_df['len_cDNA'] = tmp_read_df['cDNA'].str.len()\n",
    "    # Plot histogram on length of cDNA\n",
    "    plt.figure(figsize = (10,6))\n",
    "    #plt.hist(ovp_mock_dmdf[\"len_cDNA\"],bins = 200, alpha = 0.3, label = \"Mock\",density=True)\n",
    "    plt.hist(tmp_read_df[\"len_cDNA\"], bins = 200, alpha = 0.3, label = \"Infected\",density=True)\n",
    "    plt.legend(loc=\"upper right\")\n",
    "    plt.show()\n",
    "    tmp_read_df.index = range(0,tmp_read_df.shape[0])\n",
    "    outFile = \"../output_files/Mixcr_results/Mixcr_results_\"+tp+\"/\"+tp\n",
    "    out2=open(outFile+'_blaze_cDNA.fastq','w')\n",
    "    for i in range(0,tmp_read_df.shape[0]):\n",
    "        name = tmp_read_df.loc[i,\"read_name\"].replace(\">\",\"\")\n",
    "        # R1 = tmp_read_df.loc[i,\"B1B2UMIVV\"]\n",
    "        # R2 = tmp_read_df.loc[i,\"cDNA\"][::-1]+tmp_read_df.loc[i,\"polyA\"]\n",
    "        R2 = tmp_read_df.loc[i,\"cDNA_polyA\"]\n",
    "        #R2 = ovp_inf_dmdf.loc[i,\"cDNA\"][::-1]\n",
    "        out2.write('@'+name+'\\n'+R2+'\\n+\\n'+'j'*len(R2)+'\\n')\n",
    "        # out1.write('@'+name+'\\n'+R1+'\\n+\\n'+'j'*len(R1)+'\\n')\n",
    "    out2.close()\n",
    "    # make list into string\n",
    "    tmp_read_df['hit_barcode_num'] = tmp_read_df['bc_hit'].apply(len)\n",
    "    tmp_read_df['hit_barcode_num'].value_counts(dropna=False)\n",
    "    tmp_read_df['Barcode_hit'] = tmp_read_df['bc_hit'].apply(lambda x: x[0])\n",
    "    print(tmp_read_df.shape[0])\n",
    "    # get coordinate\n",
    "    tmp_whitelist = pd.read_csv(\"../slideseq_beadbarcodes/\"+tp+\"_BeadBarcodes.txt\", delimiter=\"\\t\", names= [\"barcode\", \"x\", \"y\"])\n",
    "    tmp_read_df = pd.merge(tmp_read_df,tmp_whitelist,how='inner',left_on=\"Barcode_hit\",right_on=\"barcode\")\n",
    "    print(tmp_read_df.shape[0])\n",
    "    # to csv\n",
    "    output_read_df = tmp_read_df[['id','seq','Sample','barcode','umi','x','y','best_edit_distance','len_cDNA']].copy()\n",
    "    output_read_df.to_csv(\"../output_files/Mixcr_results/\"+tp+\"_demul_concensus_blaze_overlap_whitelist_1dis.csv\",sep=\"\\t\",index=False)\n",
    "    # original write out to pickle\n",
    "    # tmp_read_df.to_pickle(\"../output_files/Mixcr_results/\"+tp+\"_match_Barcode_process_cleaned_1dis.pkl\")"
   ]
  },
  {
   "cell_type": "code",
   "execution_count": null,
   "metadata": {},
   "outputs": [],
   "source": []
  },
  {
   "cell_type": "code",
   "execution_count": null,
   "metadata": {},
   "outputs": [],
   "source": []
  },
  {
   "cell_type": "code",
   "execution_count": null,
   "metadata": {},
   "outputs": [],
   "source": []
  },
  {
   "cell_type": "code",
   "execution_count": null,
   "metadata": {},
   "outputs": [],
   "source": []
  },
  {
   "cell_type": "code",
   "execution_count": null,
   "metadata": {},
   "outputs": [],
   "source": []
  }
 ],
 "metadata": {
  "kernelspec": {
   "display_name": "Python 3 (ipykernel)",
   "language": "python",
   "name": "python3"
  },
  "language_info": {
   "codemirror_mode": {
    "name": "ipython",
    "version": 3
   },
   "file_extension": ".py",
   "mimetype": "text/x-python",
   "name": "python",
   "nbconvert_exporter": "python",
   "pygments_lexer": "ipython3",
   "version": "3.9.0"
  }
 },
 "nbformat": 4,
 "nbformat_minor": 4
}
